{
 "cells": [
  {
   "cell_type": "markdown",
   "metadata": {},
   "source": [
    "## Import external modules "
   ]
  },
  {
   "cell_type": "code",
   "execution_count": 1,
   "metadata": {
    "collapsed": true
   },
   "outputs": [],
   "source": [
    "from __future__ import division\n",
    "#data_path = \"\""
   ]
  },
  {
   "cell_type": "markdown",
   "metadata": {},
   "source": [
    "## Counting assets\n",
    "\n",
    "Let's create a pyhton dictionary for storing the number of times **each asset** appears in the customers portfolios and print it."
   ]
  },
  {
   "cell_type": "code",
   "execution_count": 2,
   "metadata": {
    "collapsed": false
   },
   "outputs": [],
   "source": [
    "asset_counts = {}\n",
    "\n",
    "with open(\"data/Assets_Counter_Anonimized.txt\", 'r') as f:\n",
    "\n",
    "    for line in f:\n",
    "        items = line.split('\\t')\n",
    "        asset, count = items[0], float(items[1].strip())\n",
    "        asset_counts[asset] = count\n",
    "\n",
    "#print(asset_counts)"
   ]
  },
  {
   "cell_type": "markdown",
   "metadata": {},
   "source": [
    "## Counting pairs\n",
    "\n",
    "Let's create a python dictionary for storing the number of times **each asset pair** appears in the customers portfolios and print it."
   ]
  },
  {
   "cell_type": "code",
   "execution_count": 3,
   "metadata": {
    "collapsed": false
   },
   "outputs": [],
   "source": [
    "dict_pairs_counts = {}\n",
    "\n",
    "f_to_read_path = 'data/Assets_Pairs_Anonimized.txt'\n",
    "pairs_file = open(f_to_read_path,'r')\n",
    "pair_row = pairs_file.readline()\n",
    "\n",
    "while (pair_row != \"\"):\n",
    "\n",
    "    asset_fields = pair_row.split('\\t')\n",
    "\n",
    "    a_i = asset_fields[0].strip()\n",
    "    a_j = asset_fields[1].strip()\n",
    "    a_ij= a_i + \",\" + a_j\n",
    "    \n",
    "    if (a_ij not in dict_pairs_counts):\n",
    "        dict_pairs_counts[a_ij] = 1\n",
    "    else:\n",
    "        dict_pairs_counts[a_ij] += 1\n",
    "        \n",
    "    pair_row = pairs_file.readline()\n",
    "\n",
    "pairs_file.close()\n",
    "#print dict_pairs_counts"
   ]
  },
  {
   "cell_type": "markdown",
   "metadata": {},
   "source": [
    "## Computing similarities\n",
    "\n",
    "Let's create a dictionary containing the **similarities for each pair of asset observed in the customers portolios**."
   ]
  },
  {
   "cell_type": "code",
   "execution_count": 4,
   "metadata": {
    "collapsed": false
   },
   "outputs": [],
   "source": [
    "pairs_similarity = {}\n",
    "\n",
    "for a_ij in dict_pairs_counts:\n",
    "\n",
    "    asset_pair = str(a_ij).split(',')\n",
    "    a_i = asset_pair[0].strip()\n",
    "    a_j = asset_pair[1].strip()\n",
    "\n",
    "    sim_ij = 2 * dict_pairs_counts[a_ij] / (asset_counts[a_i] + asset_counts[a_j])\n",
    "\n",
    "    pair_key1 = a_i + \",\" + a_j\n",
    "    pairs_similarity[pair_key1] = sim_ij\n",
    "    \n",
    "    pair_key2 = a_j + \",\" + a_i\n",
    "    pairs_similarity[pair_key2] = sim_ij\n"
   ]
  },
  {
   "cell_type": "code",
   "execution_count": 5,
   "metadata": {
    "collapsed": false
   },
   "outputs": [],
   "source": [
    "#pairs_similarity"
   ]
  },
  {
   "cell_type": "markdown",
   "metadata": {},
   "source": [
    "## Building a dict() of dict()\n",
    "\n",
    "Now we are going to build a dictionay of dictionries. The key of the primary dictionay will be a given asset and the value of the primary dictionay will be a secondary dictionay. Each key of the secondary dictionay is an asset and the corresponding value is the similarity between the primay dictionary key and the secondary dictionay key."
   ]
  },
  {
   "cell_type": "code",
   "execution_count": 6,
   "metadata": {
    "collapsed": false
   },
   "outputs": [],
   "source": [
    "asset_dict = {}\n",
    "\n",
    "for pair_ij in pairs_similarity:\n",
    "    \n",
    "    assets = str(pair_ij).split(',')\n",
    "    a_i = assets[0].strip()\n",
    "    a_j = assets[1].strip()\n",
    "\n",
    "    if a_i not in asset_dict:\n",
    "        # assign an empty dictionay if the i-th asset's not present\n",
    "        asset_dict[a_i] = {}\n",
    "        # assign the value of pair_ij to the key a_j of the subdict() of a_i\n",
    "        asset_dict[a_i ][a_j] = pairs_similarity[pair_ij]\n",
    "    else: \n",
    "        # assign the value of pair_ij to the key a_i of the subdict() of a_j\n",
    "        asset_dict[a_i][a_j] = pairs_similarity[pair_ij]\n",
    "        \n",
    "    if a_j not in asset_dict:\n",
    "        # assign an empty dictionay id the j-th asset is not observed yet\n",
    "        asset_dict[a_j] = {}\n",
    "        # assign the value of pair_ij to the key a_i of the subdict() of a_j\n",
    "        asset_dict[a_j][a_i] = pairs_similarity[pair_ij]\n",
    "    \n",
    "    else:\n",
    "        # assign the value of pair_ij to the key a_j of the subdict() of a_i\n",
    "        asset_dict[a_j][a_i] = pairs_similarity[pair_ij]\n",
    "\n"
   ]
  },
  {
   "cell_type": "code",
   "execution_count": 7,
   "metadata": {
    "collapsed": false
   },
   "outputs": [],
   "source": [
    "#asset_dict"
   ]
  },
  {
   "cell_type": "markdown",
   "metadata": {},
   "source": [
    "## Ordering the dict() of dict() and saving to file"
   ]
  },
  {
   "cell_type": "code",
   "execution_count": 8,
   "metadata": {
    "collapsed": false
   },
   "outputs": [],
   "source": [
    "import operator, json\n",
    "\n",
    "# sort the dictionary of similarities\n",
    "for pairs in asset_dict:\n",
    "    asset_dict[pairs] = sorted(asset_dict[pairs].items(),\n",
    "                               key = operator.itemgetter(1),\n",
    "                               reverse = True)\n",
    "    \n",
    "# save the dictionary into a json file\n",
    "json.dump(asset_dict,open('output_files/sorted_asset_dict.txt', \"w\"))"
   ]
  },
  {
   "cell_type": "markdown",
   "metadata": {},
   "source": [
    "## Using the dict() of dict()"
   ]
  },
  {
   "cell_type": "code",
   "execution_count": 9,
   "metadata": {
    "collapsed": false
   },
   "outputs": [],
   "source": [
    "d = json.load(open('output_files/sorted_asset_dict.txt'))\n",
    "\n",
    "def suggest_me(asset):\n",
    "    if asset in d:\n",
    "        counter = 0\n",
    "        for i in d[asset]:\n",
    "            if counter<10:\n",
    "                print str(i[0]),\", rank: \",i[1]\n",
    "                counter += 1\n",
    "    else:\n",
    "        print \"Asset not found\""
   ]
  },
  {
   "cell_type": "code",
   "execution_count": 10,
   "metadata": {
    "collapsed": false
   },
   "outputs": [
    {
     "name": "stdout",
     "output_type": "stream",
     "text": [
      "7 , rank:  0.4\n",
      "247 , rank:  0.117647058824\n",
      "8 , rank:  0.0952380952381\n",
      "302 , rank:  0.0740740740741\n",
      "334 , rank:  0.0434782608696\n",
      "32 , rank:  0.0425531914894\n",
      "364 , rank:  0.0294117647059\n",
      "349 , rank:  0.0204081632653\n",
      "10 , rank:  0.0194174757282\n",
      "412 , rank:  0.013698630137\n"
     ]
    }
   ],
   "source": [
    "suggest_me('1')"
   ]
  },
  {
   "cell_type": "code",
   "execution_count": 11,
   "metadata": {
    "collapsed": false
   },
   "outputs": [
    {
     "data": {
      "text/plain": [
       "[[u'7', 0.4],\n",
       " [u'247', 0.11764705882352941],\n",
       " [u'8', 0.09523809523809523],\n",
       " [u'302', 0.07407407407407407],\n",
       " [u'334', 0.043478260869565216],\n",
       " [u'32', 0.0425531914893617],\n",
       " [u'364', 0.029411764705882353],\n",
       " [u'349', 0.02040816326530612],\n",
       " [u'10', 0.019417475728155338],\n",
       " [u'412', 0.0136986301369863],\n",
       " [u'109', 0.011111111111111112],\n",
       " [u'279', 0.010471204188481676],\n",
       " [u'655', 0.00904977375565611],\n",
       " [u'47', 0.008032128514056224],\n",
       " [u'43', 0.006134969325153374],\n",
       " [u'689', 0.005633802816901409],\n",
       " [u'177', 0.003129890453834116],\n",
       " [u'772', 0.00045599635202918376],\n",
       " [u'765', 0.00036771465342893915],\n",
       " [u'75', 0.00014141271300289896]]"
      ]
     },
     "execution_count": 11,
     "metadata": {},
     "output_type": "execute_result"
    }
   ],
   "source": [
    "d['1']"
   ]
  },
  {
   "cell_type": "code",
   "execution_count": null,
   "metadata": {
    "collapsed": true
   },
   "outputs": [],
   "source": []
  },
  {
   "cell_type": "code",
   "execution_count": null,
   "metadata": {
    "collapsed": true
   },
   "outputs": [],
   "source": []
  }
 ],
 "metadata": {
  "kernelspec": {
   "display_name": "Python 2",
   "language": "python",
   "name": "python2"
  },
  "language_info": {
   "codemirror_mode": {
    "name": "ipython",
    "version": 2
   },
   "file_extension": ".py",
   "mimetype": "text/x-python",
   "name": "python",
   "nbconvert_exporter": "python",
   "pygments_lexer": "ipython2",
   "version": "2.7.13"
  }
 },
 "nbformat": 4,
 "nbformat_minor": 2
}
