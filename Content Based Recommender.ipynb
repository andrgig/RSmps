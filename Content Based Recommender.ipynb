{
 "cells": [
  {
   "cell_type": "code",
   "execution_count": 1,
   "metadata": {
    "collapsed": false
   },
   "outputs": [
    {
     "data": {
      "text/plain": [
       "R version 3.3.3 (2017-03-06)\n",
       "Platform: i686-pc-linux-gnu (32-bit)\n",
       "Running under: Ubuntu 16.04.2 LTS\n",
       "\n",
       "locale:\n",
       " [1] LC_CTYPE=en_US.UTF-8       LC_NUMERIC=C              \n",
       " [3] LC_TIME=it_IT.UTF-8        LC_COLLATE=en_US.UTF-8    \n",
       " [5] LC_MONETARY=it_IT.UTF-8    LC_MESSAGES=en_US.UTF-8   \n",
       " [7] LC_PAPER=it_IT.UTF-8       LC_NAME=C                 \n",
       " [9] LC_ADDRESS=C               LC_TELEPHONE=C            \n",
       "[11] LC_MEASUREMENT=it_IT.UTF-8 LC_IDENTIFICATION=C       \n",
       "\n",
       "attached base packages:\n",
       "[1] stats     graphics  grDevices utils     datasets  methods   base     \n",
       "\n",
       "loaded via a namespace (and not attached):\n",
       " [1] R6_2.2.0            magrittr_1.5        IRdisplay_0.4.4    \n",
       " [4] pbdZMQ_0.2-5        tools_3.3.3         crayon_1.3.2       \n",
       " [7] uuid_0.1-2          stringi_1.1.3       IRkernel_0.8.6.9000\n",
       "[10] jsonlite_1.3        stringr_1.2.0       digest_0.6.12      \n",
       "[13] repr_0.10           evaluate_0.10      "
      ]
     },
     "metadata": {},
     "output_type": "display_data"
    }
   ],
   "source": [
    "sessionInfo()"
   ]
  },
  {
   "cell_type": "markdown",
   "metadata": {},
   "source": [
    "## Load movie data\n",
    "Let's start loading dataset provided by https://grouplens.org/datasets/movielens/ and look at their content. It contains a table of movies title and genre, and  a table of ratings expressed by user for watched movies."
   ]
  },
  {
   "cell_type": "code",
   "execution_count": 2,
   "metadata": {
    "collapsed": false
   },
   "outputs": [],
   "source": [
    "movies_df <- read.csv(\"data/movies.csv\")"
   ]
  },
  {
   "cell_type": "code",
   "execution_count": 3,
   "metadata": {
    "collapsed": false
   },
   "outputs": [
    {
     "name": "stdout",
     "output_type": "stream",
     "text": [
      "'data.frame':\t9125 obs. of  3 variables:\n",
      " $ movieId: int  1 2 3 4 5 6 7 8 9 10 ...\n",
      " $ title  : Factor w/ 9123 levels \"10,000 BC (2008)\",..: 8301 4310 3412 8648 2750 3577 6856 8246 7670 3274 ...\n",
      " $ genres : Factor w/ 902 levels \"Action\",\"Action|Adventure\",..: 328 393 686 645 595 241 686 376 1 123 ...\n"
     ]
    }
   ],
   "source": [
    "str(movies_df)"
   ]
  },
  {
   "cell_type": "code",
   "execution_count": 4,
   "metadata": {
    "collapsed": false
   },
   "outputs": [
    {
     "data": {
      "text/html": [
       "<table>\n",
       "<thead><tr><th scope=col>movieId</th><th scope=col>title</th><th scope=col>genres</th></tr></thead>\n",
       "<tbody>\n",
       "\t<tr><td>1                                          </td><td>Toy Story (1995)                           </td><td>Adventure|Animation|Children|Comedy|Fantasy</td></tr>\n",
       "\t<tr><td>2                                          </td><td>Jumanji (1995)                             </td><td>Adventure|Children|Fantasy                 </td></tr>\n",
       "\t<tr><td>3                                          </td><td>Grumpier Old Men (1995)                    </td><td>Comedy|Romance                             </td></tr>\n",
       "\t<tr><td>4                                          </td><td>Waiting to Exhale (1995)                   </td><td>Comedy|Drama|Romance                       </td></tr>\n",
       "\t<tr><td>5                                          </td><td>Father of the Bride Part II (1995)         </td><td>Comedy                                     </td></tr>\n",
       "\t<tr><td>6                                          </td><td>Heat (1995)                                </td><td>Action|Crime|Thriller                      </td></tr>\n",
       "</tbody>\n",
       "</table>\n"
      ],
      "text/latex": [
       "\\begin{tabular}{r|lll}\n",
       " movieId & title & genres\\\\\n",
       "\\hline\n",
       "\t 1                                                                                   & Toy Story (1995)                                                                    & Adventure\\textbar{}Animation\\textbar{}Children\\textbar{}Comedy\\textbar{}Fantasy\\\\\n",
       "\t 2                                                               & Jumanji (1995)                                                  & Adventure\\textbar{}Children\\textbar{}Fantasy                 \\\\\n",
       "\t 3                                                     & Grumpier Old Men (1995)                               & Comedy\\textbar{}Romance                             \\\\\n",
       "\t 4                                                               & Waiting to Exhale (1995)                                        & Comedy\\textbar{}Drama\\textbar{}Romance                       \\\\\n",
       "\t 5                                           & Father of the Bride Part II (1995)          & Comedy                                     \\\\\n",
       "\t 6                                                               & Heat (1995)                                                     & Action\\textbar{}Crime\\textbar{}Thriller                      \\\\\n",
       "\\end{tabular}\n"
      ],
      "text/markdown": [
       "\n",
       "movieId | title | genres | \n",
       "|---|---|---|---|---|---|\n",
       "| 1                                           | Toy Story (1995)                            | Adventure|Animation|Children|Comedy|Fantasy | \n",
       "| 2                                           | Jumanji (1995)                              | Adventure|Children|Fantasy                  | \n",
       "| 3                                           | Grumpier Old Men (1995)                     | Comedy|Romance                              | \n",
       "| 4                                           | Waiting to Exhale (1995)                    | Comedy|Drama|Romance                        | \n",
       "| 5                                           | Father of the Bride Part II (1995)          | Comedy                                      | \n",
       "| 6                                           | Heat (1995)                                 | Action|Crime|Thriller                       | \n",
       "\n",
       "\n"
      ],
      "text/plain": [
       "  movieId title                             \n",
       "1 1       Toy Story (1995)                  \n",
       "2 2       Jumanji (1995)                    \n",
       "3 3       Grumpier Old Men (1995)           \n",
       "4 4       Waiting to Exhale (1995)          \n",
       "5 5       Father of the Bride Part II (1995)\n",
       "6 6       Heat (1995)                       \n",
       "  genres                                     \n",
       "1 Adventure|Animation|Children|Comedy|Fantasy\n",
       "2 Adventure|Children|Fantasy                 \n",
       "3 Comedy|Romance                             \n",
       "4 Comedy|Drama|Romance                       \n",
       "5 Comedy                                     \n",
       "6 Action|Crime|Thriller                      "
      ]
     },
     "metadata": {},
     "output_type": "display_data"
    }
   ],
   "source": [
    "head(movies_df)"
   ]
  },
  {
   "cell_type": "code",
   "execution_count": 5,
   "metadata": {
    "collapsed": true
   },
   "outputs": [],
   "source": [
    "ratings_df <- read.csv(\"data/ratings.csv\")"
   ]
  },
  {
   "cell_type": "code",
   "execution_count": 6,
   "metadata": {
    "collapsed": false
   },
   "outputs": [
    {
     "name": "stdout",
     "output_type": "stream",
     "text": [
      "'data.frame':\t100004 obs. of  4 variables:\n",
      " $ userId   : int  1 1 1 1 1 1 1 1 1 1 ...\n",
      " $ movieId  : int  31 1029 1061 1129 1172 1263 1287 1293 1339 1343 ...\n",
      " $ rating   : num  2.5 3 3 2 4 2 2 2 3.5 2 ...\n",
      " $ timestamp: int  1260759144 1260759179 1260759182 1260759185 1260759205 1260759151 1260759187 1260759148 1260759125 1260759131 ...\n"
     ]
    }
   ],
   "source": [
    "str(ratings_df)"
   ]
  },
  {
   "cell_type": "code",
   "execution_count": 7,
   "metadata": {
    "collapsed": false
   },
   "outputs": [
    {
     "data": {
      "text/html": [
       "<table>\n",
       "<thead><tr><th scope=col>userId</th><th scope=col>movieId</th><th scope=col>rating</th><th scope=col>timestamp</th></tr></thead>\n",
       "<tbody>\n",
       "\t<tr><td>1         </td><td>  31      </td><td>2.5       </td><td>1260759144</td></tr>\n",
       "\t<tr><td>1         </td><td>1029      </td><td>3.0       </td><td>1260759179</td></tr>\n",
       "\t<tr><td>1         </td><td>1061      </td><td>3.0       </td><td>1260759182</td></tr>\n",
       "\t<tr><td>1         </td><td>1129      </td><td>2.0       </td><td>1260759185</td></tr>\n",
       "\t<tr><td>1         </td><td>1172      </td><td>4.0       </td><td>1260759205</td></tr>\n",
       "\t<tr><td>1         </td><td>1263      </td><td>2.0       </td><td>1260759151</td></tr>\n",
       "</tbody>\n",
       "</table>\n"
      ],
      "text/latex": [
       "\\begin{tabular}{r|llll}\n",
       " userId & movieId & rating & timestamp\\\\\n",
       "\\hline\n",
       "\t 1          &   31       & 2.5        & 1260759144\\\\\n",
       "\t 1          & 1029       & 3.0        & 1260759179\\\\\n",
       "\t 1          & 1061       & 3.0        & 1260759182\\\\\n",
       "\t 1          & 1129       & 2.0        & 1260759185\\\\\n",
       "\t 1          & 1172       & 4.0        & 1260759205\\\\\n",
       "\t 1          & 1263       & 2.0        & 1260759151\\\\\n",
       "\\end{tabular}\n"
      ],
      "text/markdown": [
       "\n",
       "userId | movieId | rating | timestamp | \n",
       "|---|---|---|---|---|---|\n",
       "| 1          |   31       | 2.5        | 1260759144 | \n",
       "| 1          | 1029       | 3.0        | 1260759179 | \n",
       "| 1          | 1061       | 3.0        | 1260759182 | \n",
       "| 1          | 1129       | 2.0        | 1260759185 | \n",
       "| 1          | 1172       | 4.0        | 1260759205 | \n",
       "| 1          | 1263       | 2.0        | 1260759151 | \n",
       "\n",
       "\n"
      ],
      "text/plain": [
       "  userId movieId rating timestamp \n",
       "1 1        31    2.5    1260759144\n",
       "2 1      1029    3.0    1260759179\n",
       "3 1      1061    3.0    1260759182\n",
       "4 1      1129    2.0    1260759185\n",
       "5 1      1172    4.0    1260759205\n",
       "6 1      1263    2.0    1260759151"
      ]
     },
     "metadata": {},
     "output_type": "display_data"
    }
   ],
   "source": [
    "head(ratings_df)"
   ]
  },
  {
   "cell_type": "markdown",
   "metadata": {},
   "source": [
    "## Clean and transform the data\n",
    "Before going on we clean unused fields and make sure to work on movies being rated"
   ]
  },
  {
   "cell_type": "code",
   "execution_count": 8,
   "metadata": {
    "collapsed": true
   },
   "outputs": [],
   "source": [
    "ratings_df$timestamp <- NULL"
   ]
  },
  {
   "cell_type": "code",
   "execution_count": 10,
   "metadata": {
    "collapsed": true
   },
   "outputs": [],
   "source": [
    "# get the number of unique users\n",
    "nr_users <- length(unique(ratings_df$userId))"
   ]
  },
  {
   "cell_type": "code",
   "execution_count": 11,
   "metadata": {
    "collapsed": false
   },
   "outputs": [],
   "source": [
    "# get the list of of movies in rating_df and movies_df\n",
    "movieIds <- unique(movies_df$movieId) #9125\n",
    "ratingmovieIds <- unique(ratings_df$movieId) #9066"
   ]
  },
  {
   "cell_type": "code",
   "execution_count": 12,
   "metadata": {
    "collapsed": true
   },
   "outputs": [],
   "source": [
    "# get rid of movies whch are not rated\n",
    "movies_df <- movies_df[-which((movieIds %in% ratingmovieIds) == FALSE),]"
   ]
  },
  {
   "cell_type": "code",
   "execution_count": 13,
   "metadata": {
    "collapsed": false
   },
   "outputs": [
    {
     "data": {
      "text/html": [
       "<ol class=list-inline>\n",
       "\t<li>9066</li>\n",
       "\t<li>3</li>\n",
       "</ol>\n"
      ],
      "text/latex": [
       "\\begin{enumerate*}\n",
       "\\item 9066\n",
       "\\item 3\n",
       "\\end{enumerate*}\n"
      ],
      "text/markdown": [
       "1. 9066\n",
       "2. 3\n",
       "\n",
       "\n"
      ],
      "text/plain": [
       "[1] 9066    3"
      ]
     },
     "metadata": {},
     "output_type": "display_data"
    },
    {
     "data": {
      "text/html": [
       "<table>\n",
       "<thead><tr><th scope=col>movieId</th><th scope=col>title</th><th scope=col>genres</th></tr></thead>\n",
       "<tbody>\n",
       "\t<tr><td>1                                          </td><td>Toy Story (1995)                           </td><td>Adventure|Animation|Children|Comedy|Fantasy</td></tr>\n",
       "\t<tr><td>2                                          </td><td>Jumanji (1995)                             </td><td>Adventure|Children|Fantasy                 </td></tr>\n",
       "\t<tr><td>3                                          </td><td>Grumpier Old Men (1995)                    </td><td>Comedy|Romance                             </td></tr>\n",
       "\t<tr><td>4                                          </td><td>Waiting to Exhale (1995)                   </td><td>Comedy|Drama|Romance                       </td></tr>\n",
       "\t<tr><td>5                                          </td><td>Father of the Bride Part II (1995)         </td><td>Comedy                                     </td></tr>\n",
       "\t<tr><td>6                                          </td><td>Heat (1995)                                </td><td>Action|Crime|Thriller                      </td></tr>\n",
       "</tbody>\n",
       "</table>\n"
      ],
      "text/latex": [
       "\\begin{tabular}{r|lll}\n",
       " movieId & title & genres\\\\\n",
       "\\hline\n",
       "\t 1                                                                                   & Toy Story (1995)                                                                    & Adventure\\textbar{}Animation\\textbar{}Children\\textbar{}Comedy\\textbar{}Fantasy\\\\\n",
       "\t 2                                                               & Jumanji (1995)                                                  & Adventure\\textbar{}Children\\textbar{}Fantasy                 \\\\\n",
       "\t 3                                                     & Grumpier Old Men (1995)                               & Comedy\\textbar{}Romance                             \\\\\n",
       "\t 4                                                               & Waiting to Exhale (1995)                                        & Comedy\\textbar{}Drama\\textbar{}Romance                       \\\\\n",
       "\t 5                                           & Father of the Bride Part II (1995)          & Comedy                                     \\\\\n",
       "\t 6                                                               & Heat (1995)                                                     & Action\\textbar{}Crime\\textbar{}Thriller                      \\\\\n",
       "\\end{tabular}\n"
      ],
      "text/markdown": [
       "\n",
       "movieId | title | genres | \n",
       "|---|---|---|---|---|---|\n",
       "| 1                                           | Toy Story (1995)                            | Adventure|Animation|Children|Comedy|Fantasy | \n",
       "| 2                                           | Jumanji (1995)                              | Adventure|Children|Fantasy                  | \n",
       "| 3                                           | Grumpier Old Men (1995)                     | Comedy|Romance                              | \n",
       "| 4                                           | Waiting to Exhale (1995)                    | Comedy|Drama|Romance                        | \n",
       "| 5                                           | Father of the Bride Part II (1995)          | Comedy                                      | \n",
       "| 6                                           | Heat (1995)                                 | Action|Crime|Thriller                       | \n",
       "\n",
       "\n"
      ],
      "text/plain": [
       "  movieId title                             \n",
       "1 1       Toy Story (1995)                  \n",
       "2 2       Jumanji (1995)                    \n",
       "3 3       Grumpier Old Men (1995)           \n",
       "4 4       Waiting to Exhale (1995)          \n",
       "5 5       Father of the Bride Part II (1995)\n",
       "6 6       Heat (1995)                       \n",
       "  genres                                     \n",
       "1 Adventure|Animation|Children|Comedy|Fantasy\n",
       "2 Adventure|Children|Fantasy                 \n",
       "3 Comedy|Romance                             \n",
       "4 Comedy|Drama|Romance                       \n",
       "5 Comedy                                     \n",
       "6 Action|Crime|Thriller                      "
      ]
     },
     "metadata": {},
     "output_type": "display_data"
    }
   ],
   "source": [
    "dim(movies_df); head(movies_df)"
   ]
  },
  {
   "cell_type": "code",
   "execution_count": 14,
   "metadata": {
    "collapsed": false
   },
   "outputs": [
    {
     "data": {
      "text/html": [
       "<table>\n",
       "<thead><tr><th scope=col>movies_df$genres</th></tr></thead>\n",
       "<tbody>\n",
       "\t<tr><td>Adventure|Animation|Children|Comedy|Fantasy</td></tr>\n",
       "\t<tr><td>Adventure|Children|Fantasy                 </td></tr>\n",
       "\t<tr><td>Comedy|Romance                             </td></tr>\n",
       "\t<tr><td>Comedy|Drama|Romance                       </td></tr>\n",
       "\t<tr><td>Comedy                                     </td></tr>\n",
       "\t<tr><td>Action|Crime|Thriller                      </td></tr>\n",
       "</tbody>\n",
       "</table>\n"
      ],
      "text/latex": [
       "\\begin{tabular}{r|l}\n",
       " movies\\_df\\$genres\\\\\n",
       "\\hline\n",
       "\t Adventure\\textbar{}Animation\\textbar{}Children\\textbar{}Comedy\\textbar{}Fantasy\\\\\n",
       "\t Adventure\\textbar{}Children\\textbar{}Fantasy                 \\\\\n",
       "\t Comedy\\textbar{}Romance                             \\\\\n",
       "\t Comedy\\textbar{}Drama\\textbar{}Romance                       \\\\\n",
       "\t Comedy                                     \\\\\n",
       "\t Action\\textbar{}Crime\\textbar{}Thriller                      \\\\\n",
       "\\end{tabular}\n"
      ],
      "text/markdown": [
       "\n",
       "movies_df$genres | \n",
       "|---|---|---|---|---|---|\n",
       "| Adventure|Animation|Children|Comedy|Fantasy | \n",
       "| Adventure|Children|Fantasy                  | \n",
       "| Comedy|Romance                              | \n",
       "| Comedy|Drama|Romance                        | \n",
       "| Comedy                                      | \n",
       "| Action|Crime|Thriller                       | \n",
       "\n",
       "\n"
      ],
      "text/plain": [
       "  movies_df$genres                           \n",
       "1 Adventure|Animation|Children|Comedy|Fantasy\n",
       "2 Adventure|Children|Fantasy                 \n",
       "3 Comedy|Romance                             \n",
       "4 Comedy|Drama|Romance                       \n",
       "5 Comedy                                     \n",
       "6 Action|Crime|Thriller                      "
      ]
     },
     "metadata": {},
     "output_type": "display_data"
    }
   ],
   "source": [
    "genres <- as.data.frame(movies_df$genres, stringsAsFactors = FALSE)\n",
    "head(genres)"
   ]
  },
  {
   "cell_type": "code",
   "execution_count": 15,
   "metadata": {
    "collapsed": false
   },
   "outputs": [
    {
     "data": {
      "text/html": [
       "<ol>\n",
       "\t<li><ol class=list-inline>\n",
       "\t<li>'a'</li>\n",
       "\t<li>'b'</li>\n",
       "\t<li>'c'</li>\n",
       "\t<li>'d'</li>\n",
       "\t<li>'e'</li>\n",
       "</ol>\n",
       "</li>\n",
       "\t<li><ol class=list-inline>\n",
       "\t<li>'g'</li>\n",
       "\t<li>'h'</li>\n",
       "\t<li>'i'</li>\n",
       "\t<li>'j'</li>\n",
       "</ol>\n",
       "</li>\n",
       "\t<li><ol class=list-inline>\n",
       "\t<li>'k'</li>\n",
       "\t<li>'l'</li>\n",
       "\t<li>'m'</li>\n",
       "\t<li>'n'</li>\n",
       "\t<li>'o'</li>\n",
       "\t<li>'p'</li>\n",
       "\t<li>'q'</li>\n",
       "</ol>\n",
       "</li>\n",
       "</ol>\n"
      ],
      "text/latex": [
       "\\begin{enumerate}\n",
       "\\item \\begin{enumerate*}\n",
       "\\item 'a'\n",
       "\\item 'b'\n",
       "\\item 'c'\n",
       "\\item 'd'\n",
       "\\item 'e'\n",
       "\\end{enumerate*}\n",
       "\n",
       "\\item \\begin{enumerate*}\n",
       "\\item 'g'\n",
       "\\item 'h'\n",
       "\\item 'i'\n",
       "\\item 'j'\n",
       "\\end{enumerate*}\n",
       "\n",
       "\\item \\begin{enumerate*}\n",
       "\\item 'k'\n",
       "\\item 'l'\n",
       "\\item 'm'\n",
       "\\item 'n'\n",
       "\\item 'o'\n",
       "\\item 'p'\n",
       "\\item 'q'\n",
       "\\end{enumerate*}\n",
       "\n",
       "\\end{enumerate}\n"
      ],
      "text/markdown": [
       "1. 1. 'a'\n",
       "2. 'b'\n",
       "3. 'c'\n",
       "4. 'd'\n",
       "5. 'e'\n",
       "\n",
       "\n",
       "\n",
       "2. 1. 'g'\n",
       "2. 'h'\n",
       "3. 'i'\n",
       "4. 'j'\n",
       "\n",
       "\n",
       "\n",
       "3. 1. 'k'\n",
       "2. 'l'\n",
       "3. 'm'\n",
       "4. 'n'\n",
       "5. 'o'\n",
       "6. 'p'\n",
       "7. 'q'\n",
       "\n",
       "\n",
       "\n",
       "\n",
       "\n"
      ],
      "text/plain": [
       "[[1]]\n",
       "[1] \"a\" \"b\" \"c\" \"d\" \"e\"\n",
       "\n",
       "[[2]]\n",
       "[1] \"g\" \"h\" \"i\" \"j\"\n",
       "\n",
       "[[3]]\n",
       "[1] \"k\" \"l\" \"m\" \"n\" \"o\" \"p\" \"q\"\n"
      ]
     },
     "metadata": {},
     "output_type": "display_data"
    },
    {
     "data": {
      "text/html": [
       "<ol>\n",
       "\t<li><ol class=list-inline>\n",
       "\t<li>'a'</li>\n",
       "\t<li>'g'</li>\n",
       "\t<li>'k'</li>\n",
       "</ol>\n",
       "</li>\n",
       "\t<li><ol class=list-inline>\n",
       "\t<li>'b'</li>\n",
       "\t<li>'h'</li>\n",
       "\t<li>'l'</li>\n",
       "</ol>\n",
       "</li>\n",
       "\t<li><ol class=list-inline>\n",
       "\t<li>'c'</li>\n",
       "\t<li>'i'</li>\n",
       "\t<li>'m'</li>\n",
       "</ol>\n",
       "</li>\n",
       "\t<li><ol class=list-inline>\n",
       "\t<li>'d'</li>\n",
       "\t<li>'j'</li>\n",
       "\t<li>'n'</li>\n",
       "</ol>\n",
       "</li>\n",
       "\t<li><ol class=list-inline>\n",
       "\t<li>'e'</li>\n",
       "\t<li>'NA'</li>\n",
       "\t<li>'o'</li>\n",
       "</ol>\n",
       "</li>\n",
       "\t<li><ol class=list-inline>\n",
       "\t<li>'NA'</li>\n",
       "\t<li>'NA'</li>\n",
       "\t<li>'p'</li>\n",
       "</ol>\n",
       "</li>\n",
       "\t<li><ol class=list-inline>\n",
       "\t<li>'NA'</li>\n",
       "\t<li>'NA'</li>\n",
       "\t<li>'q'</li>\n",
       "</ol>\n",
       "</li>\n",
       "</ol>\n"
      ],
      "text/latex": [
       "\\begin{enumerate}\n",
       "\\item \\begin{enumerate*}\n",
       "\\item 'a'\n",
       "\\item 'g'\n",
       "\\item 'k'\n",
       "\\end{enumerate*}\n",
       "\n",
       "\\item \\begin{enumerate*}\n",
       "\\item 'b'\n",
       "\\item 'h'\n",
       "\\item 'l'\n",
       "\\end{enumerate*}\n",
       "\n",
       "\\item \\begin{enumerate*}\n",
       "\\item 'c'\n",
       "\\item 'i'\n",
       "\\item 'm'\n",
       "\\end{enumerate*}\n",
       "\n",
       "\\item \\begin{enumerate*}\n",
       "\\item 'd'\n",
       "\\item 'j'\n",
       "\\item 'n'\n",
       "\\end{enumerate*}\n",
       "\n",
       "\\item \\begin{enumerate*}\n",
       "\\item 'e'\n",
       "\\item 'NA'\n",
       "\\item 'o'\n",
       "\\end{enumerate*}\n",
       "\n",
       "\\item \\begin{enumerate*}\n",
       "\\item 'NA'\n",
       "\\item 'NA'\n",
       "\\item 'p'\n",
       "\\end{enumerate*}\n",
       "\n",
       "\\item \\begin{enumerate*}\n",
       "\\item 'NA'\n",
       "\\item 'NA'\n",
       "\\item 'q'\n",
       "\\end{enumerate*}\n",
       "\n",
       "\\end{enumerate}\n"
      ],
      "text/markdown": [
       "1. 1. 'a'\n",
       "2. 'g'\n",
       "3. 'k'\n",
       "\n",
       "\n",
       "\n",
       "2. 1. 'b'\n",
       "2. 'h'\n",
       "3. 'l'\n",
       "\n",
       "\n",
       "\n",
       "3. 1. 'c'\n",
       "2. 'i'\n",
       "3. 'm'\n",
       "\n",
       "\n",
       "\n",
       "4. 1. 'd'\n",
       "2. 'j'\n",
       "3. 'n'\n",
       "\n",
       "\n",
       "\n",
       "5. 1. 'e'\n",
       "2. 'NA'\n",
       "3. 'o'\n",
       "\n",
       "\n",
       "\n",
       "6. 1. 'NA'\n",
       "2. 'NA'\n",
       "3. 'p'\n",
       "\n",
       "\n",
       "\n",
       "7. 1. 'NA'\n",
       "2. 'NA'\n",
       "3. 'q'\n",
       "\n",
       "\n",
       "\n",
       "\n",
       "\n"
      ],
      "text/plain": [
       "[[1]]\n",
       "[1] \"a\" \"g\" \"k\"\n",
       "\n",
       "[[2]]\n",
       "[1] \"b\" \"h\" \"l\"\n",
       "\n",
       "[[3]]\n",
       "[1] \"c\" \"i\" \"m\"\n",
       "\n",
       "[[4]]\n",
       "[1] \"d\" \"j\" \"n\"\n",
       "\n",
       "[[5]]\n",
       "[1] \"e\" NA  \"o\"\n",
       "\n",
       "[[6]]\n",
       "[1] NA  NA  \"p\"\n",
       "\n",
       "[[7]]\n",
       "[1] NA  NA  \"q\"\n"
      ]
     },
     "metadata": {},
     "output_type": "display_data"
    }
   ],
   "source": [
    "library(data.table)\n",
    "?tstrsplit\n",
    "x = c(\"abcde\", \"ghij\", \"klmnopq\")\n",
    "strsplit(x, \"\", fixed = TRUE)\n",
    "tstrsplit(x, \"\", fixed = TRUE)"
   ]
  },
  {
   "cell_type": "code",
   "execution_count": 16,
   "metadata": {
    "collapsed": false
   },
   "outputs": [],
   "source": [
    "genres <- as.data.frame(tstrsplit(genres[,1], \n",
    "                                  '[|]', \n",
    "                                  type.convert = TRUE), \n",
    "                        stringsAsFactors = FALSE)\n",
    "\n",
    "colnames(genres) <- c(1:10)"
   ]
  },
  {
   "cell_type": "code",
   "execution_count": 17,
   "metadata": {
    "collapsed": false
   },
   "outputs": [
    {
     "data": {
      "text/html": [
       "<ol class=list-inline>\n",
       "\t<li>9066</li>\n",
       "\t<li>10</li>\n",
       "</ol>\n"
      ],
      "text/latex": [
       "\\begin{enumerate*}\n",
       "\\item 9066\n",
       "\\item 10\n",
       "\\end{enumerate*}\n"
      ],
      "text/markdown": [
       "1. 9066\n",
       "2. 10\n",
       "\n",
       "\n"
      ],
      "text/plain": [
       "[1] 9066   10"
      ]
     },
     "metadata": {},
     "output_type": "display_data"
    },
    {
     "data": {
      "text/html": [
       "<table>\n",
       "<thead><tr><th scope=col>1</th><th scope=col>2</th><th scope=col>3</th><th scope=col>4</th><th scope=col>5</th><th scope=col>6</th><th scope=col>7</th><th scope=col>8</th><th scope=col>9</th><th scope=col>10</th></tr></thead>\n",
       "<tbody>\n",
       "\t<tr><td>Adventure</td><td>Animation</td><td>Children </td><td>Comedy   </td><td>Fantasy  </td><td>NA       </td><td>NA       </td><td>NA       </td><td>NA       </td><td>NA       </td></tr>\n",
       "\t<tr><td>Adventure</td><td>Children </td><td>Fantasy  </td><td>NA       </td><td>NA       </td><td>NA       </td><td>NA       </td><td>NA       </td><td>NA       </td><td>NA       </td></tr>\n",
       "\t<tr><td>Comedy   </td><td>Romance  </td><td>NA       </td><td>NA       </td><td>NA       </td><td>NA       </td><td>NA       </td><td>NA       </td><td>NA       </td><td>NA       </td></tr>\n",
       "\t<tr><td>Comedy   </td><td>Drama    </td><td>Romance  </td><td>NA       </td><td>NA       </td><td>NA       </td><td>NA       </td><td>NA       </td><td>NA       </td><td>NA       </td></tr>\n",
       "\t<tr><td>Comedy   </td><td>NA       </td><td>NA       </td><td>NA       </td><td>NA       </td><td>NA       </td><td>NA       </td><td>NA       </td><td>NA       </td><td>NA       </td></tr>\n",
       "\t<tr><td>Action   </td><td>Crime    </td><td>Thriller </td><td>NA       </td><td>NA       </td><td>NA       </td><td>NA       </td><td>NA       </td><td>NA       </td><td>NA       </td></tr>\n",
       "</tbody>\n",
       "</table>\n"
      ],
      "text/latex": [
       "\\begin{tabular}{r|llllllllll}\n",
       " 1 & 2 & 3 & 4 & 5 & 6 & 7 & 8 & 9 & 10\\\\\n",
       "\\hline\n",
       "\t Adventure & Animation & Children  & Comedy    & Fantasy   & NA        & NA        & NA        & NA        & NA       \\\\\n",
       "\t Adventure & Children  & Fantasy   & NA        & NA        & NA        & NA        & NA        & NA        & NA       \\\\\n",
       "\t Comedy    & Romance   & NA        & NA        & NA        & NA        & NA        & NA        & NA        & NA       \\\\\n",
       "\t Comedy    & Drama     & Romance   & NA        & NA        & NA        & NA        & NA        & NA        & NA       \\\\\n",
       "\t Comedy    & NA        & NA        & NA        & NA        & NA        & NA        & NA        & NA        & NA       \\\\\n",
       "\t Action    & Crime     & Thriller  & NA        & NA        & NA        & NA        & NA        & NA        & NA       \\\\\n",
       "\\end{tabular}\n"
      ],
      "text/markdown": [
       "\n",
       "1 | 2 | 3 | 4 | 5 | 6 | 7 | 8 | 9 | 10 | \n",
       "|---|---|---|---|---|---|\n",
       "| Adventure | Animation | Children  | Comedy    | Fantasy   | NA        | NA        | NA        | NA        | NA        | \n",
       "| Adventure | Children  | Fantasy   | NA        | NA        | NA        | NA        | NA        | NA        | NA        | \n",
       "| Comedy    | Romance   | NA        | NA        | NA        | NA        | NA        | NA        | NA        | NA        | \n",
       "| Comedy    | Drama     | Romance   | NA        | NA        | NA        | NA        | NA        | NA        | NA        | \n",
       "| Comedy    | NA        | NA        | NA        | NA        | NA        | NA        | NA        | NA        | NA        | \n",
       "| Action    | Crime     | Thriller  | NA        | NA        | NA        | NA        | NA        | NA        | NA        | \n",
       "\n",
       "\n"
      ],
      "text/plain": [
       "  1         2         3        4      5       6  7  8  9  10\n",
       "1 Adventure Animation Children Comedy Fantasy NA NA NA NA NA\n",
       "2 Adventure Children  Fantasy  NA     NA      NA NA NA NA NA\n",
       "3 Comedy    Romance   NA       NA     NA      NA NA NA NA NA\n",
       "4 Comedy    Drama     Romance  NA     NA      NA NA NA NA NA\n",
       "5 Comedy    NA        NA       NA     NA      NA NA NA NA NA\n",
       "6 Action    Crime     Thriller NA     NA      NA NA NA NA NA"
      ]
     },
     "metadata": {},
     "output_type": "display_data"
    }
   ],
   "source": [
    "dim(genres)\n",
    "head(genres)"
   ]
  },
  {
   "cell_type": "code",
   "execution_count": 19,
   "metadata": {
    "collapsed": false
   },
   "outputs": [
    {
     "data": {
      "text/html": [
       "<table>\n",
       "<thead><tr><th scope=col>Action</th><th scope=col>Adventure</th><th scope=col>Animation</th><th scope=col>Children</th><th scope=col>Comedy</th><th scope=col>Crime</th><th scope=col>Documentary</th><th scope=col>Drama</th><th scope=col>Fantasy</th><th scope=col>Film-Noir</th><th scope=col>Horror</th><th scope=col>Musical</th><th scope=col>Mystery</th><th scope=col>Romance</th><th scope=col>Sci-Fi</th><th scope=col>Thriller</th><th scope=col>War</th><th scope=col>Western</th></tr></thead>\n",
       "<tbody>\n",
       "\t<tr><td>0</td><td>0</td><td>0</td><td>0</td><td>0</td><td>0</td><td>0</td><td>0</td><td>0</td><td>0</td><td>0</td><td>0</td><td>0</td><td>0</td><td>0</td><td>0</td><td>0</td><td>0</td></tr>\n",
       "\t<tr><td>0</td><td>0</td><td>0</td><td>0</td><td>0</td><td>0</td><td>0</td><td>0</td><td>0</td><td>0</td><td>0</td><td>0</td><td>0</td><td>0</td><td>0</td><td>0</td><td>0</td><td>0</td></tr>\n",
       "\t<tr><td>0</td><td>0</td><td>0</td><td>0</td><td>0</td><td>0</td><td>0</td><td>0</td><td>0</td><td>0</td><td>0</td><td>0</td><td>0</td><td>0</td><td>0</td><td>0</td><td>0</td><td>0</td></tr>\n",
       "\t<tr><td>0</td><td>0</td><td>0</td><td>0</td><td>0</td><td>0</td><td>0</td><td>0</td><td>0</td><td>0</td><td>0</td><td>0</td><td>0</td><td>0</td><td>0</td><td>0</td><td>0</td><td>0</td></tr>\n",
       "\t<tr><td>0</td><td>0</td><td>0</td><td>0</td><td>0</td><td>0</td><td>0</td><td>0</td><td>0</td><td>0</td><td>0</td><td>0</td><td>0</td><td>0</td><td>0</td><td>0</td><td>0</td><td>0</td></tr>\n",
       "\t<tr><td>0</td><td>0</td><td>0</td><td>0</td><td>0</td><td>0</td><td>0</td><td>0</td><td>0</td><td>0</td><td>0</td><td>0</td><td>0</td><td>0</td><td>0</td><td>0</td><td>0</td><td>0</td></tr>\n",
       "</tbody>\n",
       "</table>\n"
      ],
      "text/latex": [
       "\\begin{tabular}{llllllllllllllllll}\n",
       " Action & Adventure & Animation & Children & Comedy & Crime & Documentary & Drama & Fantasy & Film-Noir & Horror & Musical & Mystery & Romance & Sci-Fi & Thriller & War & Western\\\\\n",
       "\\hline\n",
       "\t 0 & 0 & 0 & 0 & 0 & 0 & 0 & 0 & 0 & 0 & 0 & 0 & 0 & 0 & 0 & 0 & 0 & 0\\\\\n",
       "\t 0 & 0 & 0 & 0 & 0 & 0 & 0 & 0 & 0 & 0 & 0 & 0 & 0 & 0 & 0 & 0 & 0 & 0\\\\\n",
       "\t 0 & 0 & 0 & 0 & 0 & 0 & 0 & 0 & 0 & 0 & 0 & 0 & 0 & 0 & 0 & 0 & 0 & 0\\\\\n",
       "\t 0 & 0 & 0 & 0 & 0 & 0 & 0 & 0 & 0 & 0 & 0 & 0 & 0 & 0 & 0 & 0 & 0 & 0\\\\\n",
       "\t 0 & 0 & 0 & 0 & 0 & 0 & 0 & 0 & 0 & 0 & 0 & 0 & 0 & 0 & 0 & 0 & 0 & 0\\\\\n",
       "\t 0 & 0 & 0 & 0 & 0 & 0 & 0 & 0 & 0 & 0 & 0 & 0 & 0 & 0 & 0 & 0 & 0 & 0\\\\\n",
       "\\end{tabular}\n"
      ],
      "text/markdown": [
       "\n",
       "Action | Adventure | Animation | Children | Comedy | Crime | Documentary | Drama | Fantasy | Film-Noir | Horror | Musical | Mystery | Romance | Sci-Fi | Thriller | War | Western | \n",
       "|---|---|---|---|---|---|\n",
       "| 0 | 0 | 0 | 0 | 0 | 0 | 0 | 0 | 0 | 0 | 0 | 0 | 0 | 0 | 0 | 0 | 0 | 0 | \n",
       "| 0 | 0 | 0 | 0 | 0 | 0 | 0 | 0 | 0 | 0 | 0 | 0 | 0 | 0 | 0 | 0 | 0 | 0 | \n",
       "| 0 | 0 | 0 | 0 | 0 | 0 | 0 | 0 | 0 | 0 | 0 | 0 | 0 | 0 | 0 | 0 | 0 | 0 | \n",
       "| 0 | 0 | 0 | 0 | 0 | 0 | 0 | 0 | 0 | 0 | 0 | 0 | 0 | 0 | 0 | 0 | 0 | 0 | \n",
       "| 0 | 0 | 0 | 0 | 0 | 0 | 0 | 0 | 0 | 0 | 0 | 0 | 0 | 0 | 0 | 0 | 0 | 0 | \n",
       "| 0 | 0 | 0 | 0 | 0 | 0 | 0 | 0 | 0 | 0 | 0 | 0 | 0 | 0 | 0 | 0 | 0 | 0 | \n",
       "\n",
       "\n"
      ],
      "text/plain": [
       "     Action Adventure Animation Children Comedy Crime Documentary Drama Fantasy\n",
       "[1,] 0      0         0         0        0      0     0           0     0      \n",
       "[2,] 0      0         0         0        0      0     0           0     0      \n",
       "[3,] 0      0         0         0        0      0     0           0     0      \n",
       "[4,] 0      0         0         0        0      0     0           0     0      \n",
       "[5,] 0      0         0         0        0      0     0           0     0      \n",
       "[6,] 0      0         0         0        0      0     0           0     0      \n",
       "     Film-Noir Horror Musical Mystery Romance Sci-Fi Thriller War Western\n",
       "[1,] 0         0      0       0       0       0      0        0   0      \n",
       "[2,] 0         0      0       0       0       0      0        0   0      \n",
       "[3,] 0         0      0       0       0       0      0        0   0      \n",
       "[4,] 0         0      0       0       0       0      0        0   0      \n",
       "[5,] 0         0      0       0       0       0      0        0   0      \n",
       "[6,] 0         0      0       0       0       0      0        0   0      "
      ]
     },
     "metadata": {},
     "output_type": "display_data"
    }
   ],
   "source": [
    "genre_list <- c(\"Action\", \"Adventure\", \n",
    "                \"Animation\", \"Children\", \n",
    "                \"Comedy\", \"Crime\",\n",
    "                \"Documentary\", \"Drama\", \n",
    "                \"Fantasy\",\"Film-Noir\", \n",
    "                \"Horror\", \"Musical\", \n",
    "                \"Mystery\",\"Romance\",\n",
    "                \"Sci-Fi\", \"Thriller\", \n",
    "                \"War\", \"Western\")\n",
    "\n",
    "# create an empty matrix having a number of rows equal to the number of rated film and a number of columns\n",
    "# equal to the number of genres\n",
    "\n",
    "genre_matrix <- matrix(0, dim(genres)[1], 18) \n",
    "colnames(genre_matrix) <- genre_list #set column names to genre list\n",
    "head(genre_matrix)"
   ]
  },
  {
   "cell_type": "code",
   "execution_count": 20,
   "metadata": {
    "collapsed": false,
    "scrolled": false
   },
   "outputs": [],
   "source": [
    "# for each row assign 1 to the genre column characterizing the movie\n",
    "for (i in 1:nrow(genres)) {\n",
    "    for (c in 1:ncol(genres)) {\n",
    "        genmat_col = which(genre_list == genres[i,c])\n",
    "        genre_matrix[i, genmat_col] <- 1\n",
    " }\n",
    "}"
   ]
  },
  {
   "cell_type": "code",
   "execution_count": 21,
   "metadata": {
    "collapsed": false
   },
   "outputs": [
    {
     "data": {
      "text/html": [
       "<table>\n",
       "<thead><tr><th scope=col>Action</th><th scope=col>Adventure</th><th scope=col>Animation</th><th scope=col>Children</th><th scope=col>Comedy</th><th scope=col>Crime</th><th scope=col>Documentary</th><th scope=col>Drama</th><th scope=col>Fantasy</th><th scope=col>Film-Noir</th><th scope=col>Horror</th><th scope=col>Musical</th><th scope=col>Mystery</th><th scope=col>Romance</th><th scope=col>Sci-Fi</th><th scope=col>Thriller</th><th scope=col>War</th><th scope=col>Western</th></tr></thead>\n",
       "<tbody>\n",
       "\t<tr><td>0</td><td>1</td><td>1</td><td>1</td><td>1</td><td>0</td><td>0</td><td>0</td><td>1</td><td>0</td><td>0</td><td>0</td><td>0</td><td>0</td><td>0</td><td>0</td><td>0</td><td>0</td></tr>\n",
       "\t<tr><td>0</td><td>1</td><td>0</td><td>1</td><td>0</td><td>0</td><td>0</td><td>0</td><td>1</td><td>0</td><td>0</td><td>0</td><td>0</td><td>0</td><td>0</td><td>0</td><td>0</td><td>0</td></tr>\n",
       "\t<tr><td>0</td><td>0</td><td>0</td><td>0</td><td>1</td><td>0</td><td>0</td><td>0</td><td>0</td><td>0</td><td>0</td><td>0</td><td>0</td><td>1</td><td>0</td><td>0</td><td>0</td><td>0</td></tr>\n",
       "</tbody>\n",
       "</table>\n"
      ],
      "text/latex": [
       "\\begin{tabular}{llllllllllllllllll}\n",
       " Action & Adventure & Animation & Children & Comedy & Crime & Documentary & Drama & Fantasy & Film-Noir & Horror & Musical & Mystery & Romance & Sci-Fi & Thriller & War & Western\\\\\n",
       "\\hline\n",
       "\t 0 & 1 & 1 & 1 & 1 & 0 & 0 & 0 & 1 & 0 & 0 & 0 & 0 & 0 & 0 & 0 & 0 & 0\\\\\n",
       "\t 0 & 1 & 0 & 1 & 0 & 0 & 0 & 0 & 1 & 0 & 0 & 0 & 0 & 0 & 0 & 0 & 0 & 0\\\\\n",
       "\t 0 & 0 & 0 & 0 & 1 & 0 & 0 & 0 & 0 & 0 & 0 & 0 & 0 & 1 & 0 & 0 & 0 & 0\\\\\n",
       "\\end{tabular}\n"
      ],
      "text/markdown": [
       "\n",
       "Action | Adventure | Animation | Children | Comedy | Crime | Documentary | Drama | Fantasy | Film-Noir | Horror | Musical | Mystery | Romance | Sci-Fi | Thriller | War | Western | \n",
       "|---|---|---|\n",
       "| 0 | 1 | 1 | 1 | 1 | 0 | 0 | 0 | 1 | 0 | 0 | 0 | 0 | 0 | 0 | 0 | 0 | 0 | \n",
       "| 0 | 1 | 0 | 1 | 0 | 0 | 0 | 0 | 1 | 0 | 0 | 0 | 0 | 0 | 0 | 0 | 0 | 0 | \n",
       "| 0 | 0 | 0 | 0 | 1 | 0 | 0 | 0 | 0 | 0 | 0 | 0 | 0 | 1 | 0 | 0 | 0 | 0 | \n",
       "\n",
       "\n"
      ],
      "text/plain": [
       "     Action Adventure Animation Children Comedy Crime Documentary Drama Fantasy\n",
       "[1,] 0      1         1         1        1      0     0           0     1      \n",
       "[2,] 0      1         0         1        0      0     0           0     1      \n",
       "[3,] 0      0         0         0        1      0     0           0     0      \n",
       "     Film-Noir Horror Musical Mystery Romance Sci-Fi Thriller War Western\n",
       "[1,] 0         0      0       0       0       0      0        0   0      \n",
       "[2,] 0         0      0       0       0       0      0        0   0      \n",
       "[3,] 0         0      0       0       1       0      0        0   0      "
      ]
     },
     "metadata": {},
     "output_type": "display_data"
    }
   ],
   "source": [
    "head(genre_matrix, 3)"
   ]
  },
  {
   "cell_type": "code",
   "execution_count": 22,
   "metadata": {
    "collapsed": true
   },
   "outputs": [],
   "source": [
    "#convert into dataframe\n",
    "genre_matrix <- as.data.frame(genre_matrix, stringsAsFactors=FALSE)\n",
    "\n",
    "#convert from characters to integers\n",
    "for (c in 1:ncol(genre_matrix)) {\n",
    "  genre_matrix[,c] <- as.integer(genre_matrix[,c])\n",
    "} "
   ]
  },
  {
   "cell_type": "markdown",
   "metadata": {},
   "source": [
    "It is possible to include several attributes and place higher weights on attributes that have been decided to be more important. This could be done with methods such as the **Term Frequency–Inverse Document Frequency algorithm (TFIDF)** but given the time at our disposal we are not coverig them."
   ]
  },
  {
   "cell_type": "code",
   "execution_count": 30,
   "metadata": {
    "collapsed": false
   },
   "outputs": [],
   "source": [
    "binaryratings <- ratings_df\n",
    "\n",
    "# assign 1 to ratings equal to 4 and 5 and 0 to ratings equaal to 1, 2, 3\n",
    "binaryratings[,3] <- ifelse(binaryratings[,3] > 3, 1, -1)"
   ]
  },
  {
   "cell_type": "code",
   "execution_count": 31,
   "metadata": {
    "collapsed": false
   },
   "outputs": [
    {
     "data": {
      "text/html": [
       "<table>\n",
       "<thead><tr><th scope=col>userId</th><th scope=col>movieId</th><th scope=col>rating</th></tr></thead>\n",
       "<tbody>\n",
       "\t<tr><td>1   </td><td>  31</td><td>-1  </td></tr>\n",
       "\t<tr><td>1   </td><td>1029</td><td>-1  </td></tr>\n",
       "\t<tr><td>1   </td><td>1061</td><td>-1  </td></tr>\n",
       "\t<tr><td>1   </td><td>1129</td><td>-1  </td></tr>\n",
       "\t<tr><td>1   </td><td>1172</td><td> 1  </td></tr>\n",
       "\t<tr><td>1   </td><td>1263</td><td>-1  </td></tr>\n",
       "</tbody>\n",
       "</table>\n"
      ],
      "text/latex": [
       "\\begin{tabular}{r|lll}\n",
       " userId & movieId & rating\\\\\n",
       "\\hline\n",
       "\t 1    &   31 & -1  \\\\\n",
       "\t 1    & 1029 & -1  \\\\\n",
       "\t 1    & 1061 & -1  \\\\\n",
       "\t 1    & 1129 & -1  \\\\\n",
       "\t 1    & 1172 &  1  \\\\\n",
       "\t 1    & 1263 & -1  \\\\\n",
       "\\end{tabular}\n"
      ],
      "text/markdown": [
       "\n",
       "userId | movieId | rating | \n",
       "|---|---|---|---|---|---|\n",
       "| 1    |   31 | -1   | \n",
       "| 1    | 1029 | -1   | \n",
       "| 1    | 1061 | -1   | \n",
       "| 1    | 1129 | -1   | \n",
       "| 1    | 1172 |  1   | \n",
       "| 1    | 1263 | -1   | \n",
       "\n",
       "\n"
      ],
      "text/plain": [
       "  userId movieId rating\n",
       "1 1        31    -1    \n",
       "2 1      1029    -1    \n",
       "3 1      1061    -1    \n",
       "4 1      1129    -1    \n",
       "5 1      1172     1    \n",
       "6 1      1263    -1    "
      ]
     },
     "metadata": {},
     "output_type": "display_data"
    }
   ],
   "source": [
    "head(binaryratings)"
   ]
  },
  {
   "cell_type": "code",
   "execution_count": 32,
   "metadata": {
    "collapsed": false
   },
   "outputs": [
    {
     "data": {
      "text/html": [
       "<ol class=list-inline>\n",
       "\t<li>9066</li>\n",
       "\t<li>672</li>\n",
       "</ol>\n"
      ],
      "text/latex": [
       "\\begin{enumerate*}\n",
       "\\item 9066\n",
       "\\item 672\n",
       "\\end{enumerate*}\n"
      ],
      "text/markdown": [
       "1. 9066\n",
       "2. 672\n",
       "\n",
       "\n"
      ],
      "text/plain": [
       "[1] 9066  672"
      ]
     },
     "metadata": {},
     "output_type": "display_data"
    },
    {
     "data": {
      "text/html": [
       "<table>\n",
       "<thead><tr><th scope=col>movieId</th><th scope=col>1</th><th scope=col>2</th><th scope=col>3</th><th scope=col>4</th><th scope=col>5</th><th scope=col>6</th><th scope=col>7</th><th scope=col>8</th><th scope=col>9</th><th scope=col>⋯</th><th scope=col>662</th><th scope=col>663</th><th scope=col>664</th><th scope=col>665</th><th scope=col>666</th><th scope=col>667</th><th scope=col>668</th><th scope=col>669</th><th scope=col>670</th><th scope=col>671</th></tr></thead>\n",
       "<tbody>\n",
       "\t<tr><td>1 </td><td>0 </td><td>0 </td><td>0 </td><td>0 </td><td>0 </td><td>0 </td><td>-1</td><td>0 </td><td>1 </td><td>⋯ </td><td>0 </td><td>1 </td><td>1 </td><td> 0</td><td>0 </td><td>0 </td><td>0 </td><td>0 </td><td>1 </td><td>1 </td></tr>\n",
       "\t<tr><td>2 </td><td>0 </td><td>0 </td><td>0 </td><td>0 </td><td>0 </td><td>0 </td><td> 0</td><td>0 </td><td>0 </td><td>⋯ </td><td>1 </td><td>0 </td><td>0 </td><td>-1</td><td>0 </td><td>0 </td><td>0 </td><td>0 </td><td>0 </td><td>0 </td></tr>\n",
       "\t<tr><td>3 </td><td>0 </td><td>0 </td><td>0 </td><td>0 </td><td>1 </td><td>0 </td><td> 0</td><td>0 </td><td>0 </td><td>⋯ </td><td>0 </td><td>0 </td><td>0 </td><td>-1</td><td>0 </td><td>0 </td><td>0 </td><td>0 </td><td>0 </td><td>0 </td></tr>\n",
       "\t<tr><td>4 </td><td>0 </td><td>0 </td><td>0 </td><td>0 </td><td>0 </td><td>0 </td><td> 0</td><td>0 </td><td>0 </td><td>⋯ </td><td>0 </td><td>0 </td><td>0 </td><td> 0</td><td>0 </td><td>0 </td><td>0 </td><td>0 </td><td>0 </td><td>0 </td></tr>\n",
       "\t<tr><td>5 </td><td>0 </td><td>0 </td><td>0 </td><td>0 </td><td>0 </td><td>0 </td><td> 0</td><td>0 </td><td>0 </td><td>⋯ </td><td>0 </td><td>0 </td><td>0 </td><td>-1</td><td>0 </td><td>0 </td><td>0 </td><td>0 </td><td>0 </td><td>0 </td></tr>\n",
       "\t<tr><td>6 </td><td>0 </td><td>0 </td><td>0 </td><td>0 </td><td>0 </td><td>0 </td><td> 0</td><td>0 </td><td>0 </td><td>⋯ </td><td>0 </td><td>0 </td><td>1 </td><td> 0</td><td>1 </td><td>1 </td><td>0 </td><td>0 </td><td>0 </td><td>0 </td></tr>\n",
       "</tbody>\n",
       "</table>\n"
      ],
      "text/latex": [
       "\\begin{tabular}{r|llllllllllllllllllllllllllllllllllllllllllllllllllllllllllllllllllllllllllllllllllllllllllllllllllllllllllllllllllllllllllllllllllllllllllllllllllllllllllllllllllllllllllllllllllllllllllllllllllllllllllllllllllllllllllllllllllllllllllllllllllllllllllllllllllllllllllllllllllllllllllllllllllllllllllllllllllllllllllllllllllllllllllllllllllllllllllllllllllllllllllllllllllllllllllllllllllllllllllllllllllllllllllllllllllllllllllllllllllllllllllllllllllllllllllllllllllllllllllllllllllllllllllllllllllllllllllllllllllllllllllllllllllllllllllllllllllllllllllllllllllllllllllllllllllllllllllllllllllllllllllllllllllllllllllllllllllllllllllllllllllllllllllllllllllllllllllllllll}\n",
       " movieId & 1 & 2 & 3 & 4 & 5 & 6 & 7 & 8 & 9 & ⋯ & 662 & 663 & 664 & 665 & 666 & 667 & 668 & 669 & 670 & 671\\\\\n",
       "\\hline\n",
       "\t 1  & 0  & 0  & 0  & 0  & 0  & 0  & -1 & 0  & 1  & ⋯  & 0  & 1  & 1  &  0 & 0  & 0  & 0  & 0  & 1  & 1 \\\\\n",
       "\t 2  & 0  & 0  & 0  & 0  & 0  & 0  &  0 & 0  & 0  & ⋯  & 1  & 0  & 0  & -1 & 0  & 0  & 0  & 0  & 0  & 0 \\\\\n",
       "\t 3  & 0  & 0  & 0  & 0  & 1  & 0  &  0 & 0  & 0  & ⋯  & 0  & 0  & 0  & -1 & 0  & 0  & 0  & 0  & 0  & 0 \\\\\n",
       "\t 4  & 0  & 0  & 0  & 0  & 0  & 0  &  0 & 0  & 0  & ⋯  & 0  & 0  & 0  &  0 & 0  & 0  & 0  & 0  & 0  & 0 \\\\\n",
       "\t 5  & 0  & 0  & 0  & 0  & 0  & 0  &  0 & 0  & 0  & ⋯  & 0  & 0  & 0  & -1 & 0  & 0  & 0  & 0  & 0  & 0 \\\\\n",
       "\t 6  & 0  & 0  & 0  & 0  & 0  & 0  &  0 & 0  & 0  & ⋯  & 0  & 0  & 1  &  0 & 1  & 1  & 0  & 0  & 0  & 0 \\\\\n",
       "\\end{tabular}\n"
      ],
      "text/markdown": [
       "\n",
       "movieId | 1 | 2 | 3 | 4 | 5 | 6 | 7 | 8 | 9 | ⋯ | 662 | 663 | 664 | 665 | 666 | 667 | 668 | 669 | 670 | 671 | \n",
       "|---|---|---|---|---|---|\n",
       "| 1  | 0  | 0  | 0  | 0  | 0  | 0  | -1 | 0  | 1  | ⋯  | 0  | 1  | 1  |  0 | 0  | 0  | 0  | 0  | 1  | 1  | \n",
       "| 2  | 0  | 0  | 0  | 0  | 0  | 0  |  0 | 0  | 0  | ⋯  | 1  | 0  | 0  | -1 | 0  | 0  | 0  | 0  | 0  | 0  | \n",
       "| 3  | 0  | 0  | 0  | 0  | 1  | 0  |  0 | 0  | 0  | ⋯  | 0  | 0  | 0  | -1 | 0  | 0  | 0  | 0  | 0  | 0  | \n",
       "| 4  | 0  | 0  | 0  | 0  | 0  | 0  |  0 | 0  | 0  | ⋯  | 0  | 0  | 0  |  0 | 0  | 0  | 0  | 0  | 0  | 0  | \n",
       "| 5  | 0  | 0  | 0  | 0  | 0  | 0  |  0 | 0  | 0  | ⋯  | 0  | 0  | 0  | -1 | 0  | 0  | 0  | 0  | 0  | 0  | \n",
       "| 6  | 0  | 0  | 0  | 0  | 0  | 0  |  0 | 0  | 0  | ⋯  | 0  | 0  | 1  |  0 | 1  | 1  | 0  | 0  | 0  | 0  | \n",
       "\n",
       "\n"
      ],
      "text/plain": [
       "  movieId 1 2 3 4 5 6 7  8 9 ⋯ 662 663 664 665 666 667 668 669 670 671\n",
       "1 1       0 0 0 0 0 0 -1 0 1 ⋯ 0   1   1    0  0   0   0   0   1   1  \n",
       "2 2       0 0 0 0 0 0  0 0 0 ⋯ 1   0   0   -1  0   0   0   0   0   0  \n",
       "3 3       0 0 0 0 1 0  0 0 0 ⋯ 0   0   0   -1  0   0   0   0   0   0  \n",
       "4 4       0 0 0 0 0 0  0 0 0 ⋯ 0   0   0    0  0   0   0   0   0   0  \n",
       "5 5       0 0 0 0 0 0  0 0 0 ⋯ 0   0   0   -1  0   0   0   0   0   0  \n",
       "6 6       0 0 0 0 0 0  0 0 0 ⋯ 0   0   1    0  1   1   0   0   0   0  "
      ]
     },
     "metadata": {},
     "output_type": "display_data"
    }
   ],
   "source": [
    "# use dcast to get a row for each movieId, where each column represent the feedback received by each user\n",
    "binaryratings <- dcast(binaryratings, movieId~userId, value.var = \"rating\", na.rm=FALSE)\n",
    "\n",
    "# replace NA by zero\n",
    "binaryratings[is.na(binaryratings)] <- 0\n",
    "\n",
    "dim(binaryratings)\n",
    "head(binaryratings)\n"
   ]
  },
  {
   "cell_type": "code",
   "execution_count": 33,
   "metadata": {
    "collapsed": false
   },
   "outputs": [
    {
     "data": {
      "text/html": [
       "<table>\n",
       "<thead><tr><th scope=col>1</th><th scope=col>2</th><th scope=col>3</th><th scope=col>4</th><th scope=col>5</th><th scope=col>6</th><th scope=col>7</th><th scope=col>8</th><th scope=col>9</th><th scope=col>10</th><th scope=col>⋯</th><th scope=col>662</th><th scope=col>663</th><th scope=col>664</th><th scope=col>665</th><th scope=col>666</th><th scope=col>667</th><th scope=col>668</th><th scope=col>669</th><th scope=col>670</th><th scope=col>671</th></tr></thead>\n",
       "<tbody>\n",
       "\t<tr><td>0 </td><td>0 </td><td>0 </td><td>0 </td><td>0 </td><td>0 </td><td>-1</td><td>0 </td><td>1 </td><td>0 </td><td>⋯ </td><td>0 </td><td>1 </td><td>1 </td><td> 0</td><td>0 </td><td>0 </td><td>0 </td><td>0 </td><td>1 </td><td>1 </td></tr>\n",
       "\t<tr><td>0 </td><td>0 </td><td>0 </td><td>0 </td><td>0 </td><td>0 </td><td> 0</td><td>0 </td><td>0 </td><td>0 </td><td>⋯ </td><td>1 </td><td>0 </td><td>0 </td><td>-1</td><td>0 </td><td>0 </td><td>0 </td><td>0 </td><td>0 </td><td>0 </td></tr>\n",
       "\t<tr><td>0 </td><td>0 </td><td>0 </td><td>0 </td><td>1 </td><td>0 </td><td> 0</td><td>0 </td><td>0 </td><td>0 </td><td>⋯ </td><td>0 </td><td>0 </td><td>0 </td><td>-1</td><td>0 </td><td>0 </td><td>0 </td><td>0 </td><td>0 </td><td>0 </td></tr>\n",
       "\t<tr><td>0 </td><td>0 </td><td>0 </td><td>0 </td><td>0 </td><td>0 </td><td> 0</td><td>0 </td><td>0 </td><td>0 </td><td>⋯ </td><td>0 </td><td>0 </td><td>0 </td><td> 0</td><td>0 </td><td>0 </td><td>0 </td><td>0 </td><td>0 </td><td>0 </td></tr>\n",
       "\t<tr><td>0 </td><td>0 </td><td>0 </td><td>0 </td><td>0 </td><td>0 </td><td> 0</td><td>0 </td><td>0 </td><td>0 </td><td>⋯ </td><td>0 </td><td>0 </td><td>0 </td><td>-1</td><td>0 </td><td>0 </td><td>0 </td><td>0 </td><td>0 </td><td>0 </td></tr>\n",
       "\t<tr><td>0 </td><td>0 </td><td>0 </td><td>0 </td><td>0 </td><td>0 </td><td> 0</td><td>0 </td><td>0 </td><td>0 </td><td>⋯ </td><td>0 </td><td>0 </td><td>1 </td><td> 0</td><td>1 </td><td>1 </td><td>0 </td><td>0 </td><td>0 </td><td>0 </td></tr>\n",
       "</tbody>\n",
       "</table>\n"
      ],
      "text/latex": [
       "\\begin{tabular}{r|lllllllllllllllllllllllllllllllllllllllllllllllllllllllllllllllllllllllllllllllllllllllllllllllllllllllllllllllllllllllllllllllllllllllllllllllllllllllllllllllllllllllllllllllllllllllllllllllllllllllllllllllllllllllllllllllllllllllllllllllllllllllllllllllllllllllllllllllllllllllllllllllllllllllllllllllllllllllllllllllllllllllllllllllllllllllllllllllllllllllllllllllllllllllllllllllllllllllllllllllllllllllllllllllllllllllllllllllllllllllllllllllllllllllllllllllllllllllllllllllllllllllllllllllllllllllllllllllllllllllllllllllllllllllllllllllllllllllllllllllllllllllllllllllllllllllllllllllllllllllllllllllllllllllllllllllllllllllllllllllllllllllllllllllllllllllllllllll}\n",
       " 1 & 2 & 3 & 4 & 5 & 6 & 7 & 8 & 9 & 10 & ⋯ & 662 & 663 & 664 & 665 & 666 & 667 & 668 & 669 & 670 & 671\\\\\n",
       "\\hline\n",
       "\t 0  & 0  & 0  & 0  & 0  & 0  & -1 & 0  & 1  & 0  & ⋯  & 0  & 1  & 1  &  0 & 0  & 0  & 0  & 0  & 1  & 1 \\\\\n",
       "\t 0  & 0  & 0  & 0  & 0  & 0  &  0 & 0  & 0  & 0  & ⋯  & 1  & 0  & 0  & -1 & 0  & 0  & 0  & 0  & 0  & 0 \\\\\n",
       "\t 0  & 0  & 0  & 0  & 1  & 0  &  0 & 0  & 0  & 0  & ⋯  & 0  & 0  & 0  & -1 & 0  & 0  & 0  & 0  & 0  & 0 \\\\\n",
       "\t 0  & 0  & 0  & 0  & 0  & 0  &  0 & 0  & 0  & 0  & ⋯  & 0  & 0  & 0  &  0 & 0  & 0  & 0  & 0  & 0  & 0 \\\\\n",
       "\t 0  & 0  & 0  & 0  & 0  & 0  &  0 & 0  & 0  & 0  & ⋯  & 0  & 0  & 0  & -1 & 0  & 0  & 0  & 0  & 0  & 0 \\\\\n",
       "\t 0  & 0  & 0  & 0  & 0  & 0  &  0 & 0  & 0  & 0  & ⋯  & 0  & 0  & 1  &  0 & 1  & 1  & 0  & 0  & 0  & 0 \\\\\n",
       "\\end{tabular}\n"
      ],
      "text/markdown": [
       "\n",
       "1 | 2 | 3 | 4 | 5 | 6 | 7 | 8 | 9 | 10 | ⋯ | 662 | 663 | 664 | 665 | 666 | 667 | 668 | 669 | 670 | 671 | \n",
       "|---|---|---|---|---|---|\n",
       "| 0  | 0  | 0  | 0  | 0  | 0  | -1 | 0  | 1  | 0  | ⋯  | 0  | 1  | 1  |  0 | 0  | 0  | 0  | 0  | 1  | 1  | \n",
       "| 0  | 0  | 0  | 0  | 0  | 0  |  0 | 0  | 0  | 0  | ⋯  | 1  | 0  | 0  | -1 | 0  | 0  | 0  | 0  | 0  | 0  | \n",
       "| 0  | 0  | 0  | 0  | 1  | 0  |  0 | 0  | 0  | 0  | ⋯  | 0  | 0  | 0  | -1 | 0  | 0  | 0  | 0  | 0  | 0  | \n",
       "| 0  | 0  | 0  | 0  | 0  | 0  |  0 | 0  | 0  | 0  | ⋯  | 0  | 0  | 0  |  0 | 0  | 0  | 0  | 0  | 0  | 0  | \n",
       "| 0  | 0  | 0  | 0  | 0  | 0  |  0 | 0  | 0  | 0  | ⋯  | 0  | 0  | 0  | -1 | 0  | 0  | 0  | 0  | 0  | 0  | \n",
       "| 0  | 0  | 0  | 0  | 0  | 0  |  0 | 0  | 0  | 0  | ⋯  | 0  | 0  | 1  |  0 | 1  | 1  | 0  | 0  | 0  | 0  | \n",
       "\n",
       "\n"
      ],
      "text/plain": [
       "  1 2 3 4 5 6 7  8 9 10 ⋯ 662 663 664 665 666 667 668 669 670 671\n",
       "1 0 0 0 0 0 0 -1 0 1 0  ⋯ 0   1   1    0  0   0   0   0   1   1  \n",
       "2 0 0 0 0 0 0  0 0 0 0  ⋯ 1   0   0   -1  0   0   0   0   0   0  \n",
       "3 0 0 0 0 1 0  0 0 0 0  ⋯ 0   0   0   -1  0   0   0   0   0   0  \n",
       "4 0 0 0 0 0 0  0 0 0 0  ⋯ 0   0   0    0  0   0   0   0   0   0  \n",
       "5 0 0 0 0 0 0  0 0 0 0  ⋯ 0   0   0   -1  0   0   0   0   0   0  \n",
       "6 0 0 0 0 0 0  0 0 0 0  ⋯ 0   0   1    0  1   1   0   0   0   0  "
      ]
     },
     "metadata": {},
     "output_type": "display_data"
    }
   ],
   "source": [
    "# remove movieIds col. Rows are movieIds, cols are userIds\n",
    "binaryratings = binaryratings[,-1] \n",
    "head(binaryratings)"
   ]
  },
  {
   "cell_type": "code",
   "execution_count": 34,
   "metadata": {
    "collapsed": false
   },
   "outputs": [
    {
     "data": {
      "text/html": [
       "<ol class=list-inline>\n",
       "\t<li>9066</li>\n",
       "\t<li>18</li>\n",
       "</ol>\n"
      ],
      "text/latex": [
       "\\begin{enumerate*}\n",
       "\\item 9066\n",
       "\\item 18\n",
       "\\end{enumerate*}\n"
      ],
      "text/markdown": [
       "1. 9066\n",
       "2. 18\n",
       "\n",
       "\n"
      ],
      "text/plain": [
       "[1] 9066   18"
      ]
     },
     "metadata": {},
     "output_type": "display_data"
    },
    {
     "data": {
      "text/html": [
       "<table>\n",
       "<thead><tr><th scope=col>Action</th><th scope=col>Adventure</th><th scope=col>Animation</th><th scope=col>Children</th><th scope=col>Comedy</th><th scope=col>Crime</th><th scope=col>Documentary</th><th scope=col>Drama</th><th scope=col>Fantasy</th><th scope=col>Film-Noir</th><th scope=col>Horror</th><th scope=col>Musical</th><th scope=col>Mystery</th><th scope=col>Romance</th><th scope=col>Sci-Fi</th><th scope=col>Thriller</th><th scope=col>War</th><th scope=col>Western</th></tr></thead>\n",
       "<tbody>\n",
       "\t<tr><td>0</td><td>1</td><td>1</td><td>1</td><td>1</td><td>0</td><td>0</td><td>0</td><td>1</td><td>0</td><td>0</td><td>0</td><td>0</td><td>0</td><td>0</td><td>0</td><td>0</td><td>0</td></tr>\n",
       "\t<tr><td>0</td><td>1</td><td>0</td><td>1</td><td>0</td><td>0</td><td>0</td><td>0</td><td>1</td><td>0</td><td>0</td><td>0</td><td>0</td><td>0</td><td>0</td><td>0</td><td>0</td><td>0</td></tr>\n",
       "\t<tr><td>0</td><td>0</td><td>0</td><td>0</td><td>1</td><td>0</td><td>0</td><td>0</td><td>0</td><td>0</td><td>0</td><td>0</td><td>0</td><td>1</td><td>0</td><td>0</td><td>0</td><td>0</td></tr>\n",
       "</tbody>\n",
       "</table>\n"
      ],
      "text/latex": [
       "\\begin{tabular}{r|llllllllllllllllll}\n",
       " Action & Adventure & Animation & Children & Comedy & Crime & Documentary & Drama & Fantasy & Film-Noir & Horror & Musical & Mystery & Romance & Sci-Fi & Thriller & War & Western\\\\\n",
       "\\hline\n",
       "\t 0 & 1 & 1 & 1 & 1 & 0 & 0 & 0 & 1 & 0 & 0 & 0 & 0 & 0 & 0 & 0 & 0 & 0\\\\\n",
       "\t 0 & 1 & 0 & 1 & 0 & 0 & 0 & 0 & 1 & 0 & 0 & 0 & 0 & 0 & 0 & 0 & 0 & 0\\\\\n",
       "\t 0 & 0 & 0 & 0 & 1 & 0 & 0 & 0 & 0 & 0 & 0 & 0 & 0 & 1 & 0 & 0 & 0 & 0\\\\\n",
       "\\end{tabular}\n"
      ],
      "text/markdown": [
       "\n",
       "Action | Adventure | Animation | Children | Comedy | Crime | Documentary | Drama | Fantasy | Film-Noir | Horror | Musical | Mystery | Romance | Sci-Fi | Thriller | War | Western | \n",
       "|---|---|---|\n",
       "| 0 | 1 | 1 | 1 | 1 | 0 | 0 | 0 | 1 | 0 | 0 | 0 | 0 | 0 | 0 | 0 | 0 | 0 | \n",
       "| 0 | 1 | 0 | 1 | 0 | 0 | 0 | 0 | 1 | 0 | 0 | 0 | 0 | 0 | 0 | 0 | 0 | 0 | \n",
       "| 0 | 0 | 0 | 0 | 1 | 0 | 0 | 0 | 0 | 0 | 0 | 0 | 0 | 1 | 0 | 0 | 0 | 0 | \n",
       "\n",
       "\n"
      ],
      "text/plain": [
       "  Action Adventure Animation Children Comedy Crime Documentary Drama Fantasy\n",
       "1 0      1         1         1        1      0     0           0     1      \n",
       "2 0      1         0         1        0      0     0           0     1      \n",
       "3 0      0         0         0        1      0     0           0     0      \n",
       "  Film-Noir Horror Musical Mystery Romance Sci-Fi Thriller War Western\n",
       "1 0         0      0       0       0       0      0        0   0      \n",
       "2 0         0      0       0       0       0      0        0   0      \n",
       "3 0         0      0       0       1       0      0        0   0      "
      ]
     },
     "metadata": {},
     "output_type": "display_data"
    },
    {
     "data": {
      "text/html": [
       "<ol class=list-inline>\n",
       "\t<li>9066</li>\n",
       "\t<li>3</li>\n",
       "</ol>\n"
      ],
      "text/latex": [
       "\\begin{enumerate*}\n",
       "\\item 9066\n",
       "\\item 3\n",
       "\\end{enumerate*}\n"
      ],
      "text/markdown": [
       "1. 9066\n",
       "2. 3\n",
       "\n",
       "\n"
      ],
      "text/plain": [
       "[1] 9066    3"
      ]
     },
     "metadata": {},
     "output_type": "display_data"
    },
    {
     "data": {
      "text/html": [
       "<table>\n",
       "<thead><tr><th scope=col>movieId</th><th scope=col>title</th><th scope=col>genres</th></tr></thead>\n",
       "<tbody>\n",
       "\t<tr><td>1                                          </td><td>Toy Story (1995)                           </td><td>Adventure|Animation|Children|Comedy|Fantasy</td></tr>\n",
       "\t<tr><td>2                                          </td><td>Jumanji (1995)                             </td><td>Adventure|Children|Fantasy                 </td></tr>\n",
       "\t<tr><td>3                                          </td><td>Grumpier Old Men (1995)                    </td><td>Comedy|Romance                             </td></tr>\n",
       "</tbody>\n",
       "</table>\n"
      ],
      "text/latex": [
       "\\begin{tabular}{r|lll}\n",
       " movieId & title & genres\\\\\n",
       "\\hline\n",
       "\t 1                                                                                   & Toy Story (1995)                                                                    & Adventure\\textbar{}Animation\\textbar{}Children\\textbar{}Comedy\\textbar{}Fantasy\\\\\n",
       "\t 2                                                               & Jumanji (1995)                                                  & Adventure\\textbar{}Children\\textbar{}Fantasy                 \\\\\n",
       "\t 3                                                     & Grumpier Old Men (1995)                               & Comedy\\textbar{}Romance                             \\\\\n",
       "\\end{tabular}\n"
      ],
      "text/markdown": [
       "\n",
       "movieId | title | genres | \n",
       "|---|---|---|\n",
       "| 1                                           | Toy Story (1995)                            | Adventure|Animation|Children|Comedy|Fantasy | \n",
       "| 2                                           | Jumanji (1995)                              | Adventure|Children|Fantasy                  | \n",
       "| 3                                           | Grumpier Old Men (1995)                     | Comedy|Romance                              | \n",
       "\n",
       "\n"
      ],
      "text/plain": [
       "  movieId title                   genres                                     \n",
       "1 1       Toy Story (1995)        Adventure|Animation|Children|Comedy|Fantasy\n",
       "2 2       Jumanji (1995)          Adventure|Children|Fantasy                 \n",
       "3 3       Grumpier Old Men (1995) Comedy|Romance                             "
      ]
     },
     "metadata": {},
     "output_type": "display_data"
    }
   ],
   "source": [
    "dim(genre_matrix); head(genre_matrix, 3); dim(movies_df); head(movies_df,3)"
   ]
  },
  {
   "cell_type": "code",
   "execution_count": 35,
   "metadata": {
    "collapsed": false
   },
   "outputs": [
    {
     "data": {
      "text/html": [
       "<ol class=list-inline>\n",
       "\t<li>671</li>\n",
       "\t<li>18</li>\n",
       "</ol>\n"
      ],
      "text/latex": [
       "\\begin{enumerate*}\n",
       "\\item 671\n",
       "\\item 18\n",
       "\\end{enumerate*}\n"
      ],
      "text/markdown": [
       "1. 671\n",
       "2. 18\n",
       "\n",
       "\n"
      ],
      "text/plain": [
       "[1] 671  18"
      ]
     },
     "metadata": {},
     "output_type": "display_data"
    }
   ],
   "source": [
    "# Calculate the dot product for the User Profiles\n",
    "result = matrix(0, 18, nr_users)\n",
    "for (c in 1:ncol(binaryratings)){\n",
    "  for (i in 1:ncol(genre_matrix)){\n",
    "    result[i,c] <- ifelse(sum((genre_matrix[,i]) * (binaryratings[,c])) < 0, 0, 1)\n",
    "  }\n",
    "}\n",
    "\n",
    "result <- t(result)\n",
    "\n",
    "dim(result)"
   ]
  },
  {
   "cell_type": "code",
   "execution_count": 36,
   "metadata": {
    "collapsed": false
   },
   "outputs": [
    {
     "data": {
      "text/html": [
       "<ol class=list-inline>\n",
       "\t<li>0</li>\n",
       "\t<li>0</li>\n",
       "\t<li>0</li>\n",
       "\t<li>0</li>\n",
       "\t<li>0</li>\n",
       "\t<li>1</li>\n",
       "\t<li>1</li>\n",
       "\t<li>0</li>\n",
       "\t<li>0</li>\n",
       "\t<li>1</li>\n",
       "\t<li>1</li>\n",
       "\t<li>0</li>\n",
       "\t<li>1</li>\n",
       "\t<li>1</li>\n",
       "\t<li>0</li>\n",
       "\t<li>0</li>\n",
       "\t<li>0</li>\n",
       "\t<li>0</li>\n",
       "</ol>\n"
      ],
      "text/latex": [
       "\\begin{enumerate*}\n",
       "\\item 0\n",
       "\\item 0\n",
       "\\item 0\n",
       "\\item 0\n",
       "\\item 0\n",
       "\\item 1\n",
       "\\item 1\n",
       "\\item 0\n",
       "\\item 0\n",
       "\\item 1\n",
       "\\item 1\n",
       "\\item 0\n",
       "\\item 1\n",
       "\\item 1\n",
       "\\item 0\n",
       "\\item 0\n",
       "\\item 0\n",
       "\\item 0\n",
       "\\end{enumerate*}\n"
      ],
      "text/markdown": [
       "1. 0\n",
       "2. 0\n",
       "3. 0\n",
       "4. 0\n",
       "5. 0\n",
       "6. 1\n",
       "7. 1\n",
       "8. 0\n",
       "9. 0\n",
       "10. 1\n",
       "11. 1\n",
       "12. 0\n",
       "13. 1\n",
       "14. 1\n",
       "15. 0\n",
       "16. 0\n",
       "17. 0\n",
       "18. 0\n",
       "\n",
       "\n"
      ],
      "text/plain": [
       " [1] 0 0 0 0 0 1 1 0 0 1 1 0 1 1 0 0 0 0"
      ]
     },
     "metadata": {},
     "output_type": "display_data"
    }
   ],
   "source": [
    "result[1,] #is the vector representing the user 1 taste"
   ]
  },
  {
   "cell_type": "markdown",
   "metadata": {},
   "source": [
    "# Recommend a movie to the first user"
   ]
  },
  {
   "cell_type": "code",
   "execution_count": 37,
   "metadata": {
    "collapsed": false
   },
   "outputs": [
    {
     "name": "stdout",
     "output_type": "stream",
     "text": [
      "  Action Adventure Animation Children Comedy Crime Documentary Drama Fantasy\n",
      "1      0         0         0        0      0     1           1     0       0\n",
      "  Film-Noir Horror Musical Mystery Romance Sci-Fi Thriller War Western\n",
      "1         1      1       0       1       1      0        0   0       0\n",
      "            [,1]\n",
      "Action         0\n",
      "Adventure      0\n",
      "Animation      0\n",
      "Children       0\n",
      "Comedy         0\n",
      "Crime          1\n",
      "Documentary    1\n",
      "Drama          0\n",
      "Fantasy        0\n",
      "Film-Noir      1\n",
      "Horror         1\n",
      "Musical        0\n",
      "Mystery        1\n",
      "Romance        1\n",
      "Sci-Fi         0\n",
      "Thriller       0\n",
      "War            0\n",
      "Western        0\n"
     ]
    }
   ],
   "source": [
    "# First user's profile\n",
    "user.1 <- result[1,]\n",
    "user.1 <- data.frame(lapply(user.1,function(x){as.integer(x)}))\n",
    "colnames(user.1) <- genre_list #set column names to genre list\n",
    "print(user.1)\n",
    "print(t(user.1))"
   ]
  },
  {
   "cell_type": "code",
   "execution_count": 39,
   "metadata": {
    "collapsed": false
   },
   "outputs": [],
   "source": [
    "library(proxy) # to compute distance"
   ]
  },
  {
   "cell_type": "code",
   "execution_count": 40,
   "metadata": {
    "collapsed": false
   },
   "outputs": [],
   "source": [
    "#Calculate Jaccard distance between user profile and all movies\n",
    "sim_results <- dist(genre_matrix, user.1, method = \"Jaccard\")"
   ]
  },
  {
   "cell_type": "code",
   "execution_count": 43,
   "metadata": {
    "collapsed": false
   },
   "outputs": [
    {
     "data": {
      "text/html": [
       "<ol class=list-inline>\n",
       "\t<li>1</li>\n",
       "\t<li>1</li>\n",
       "\t<li>0.857142857142857</li>\n",
       "\t<li>0.875</li>\n",
       "\t<li>1</li>\n",
       "\t<li>0.875</li>\n",
       "</ol>\n"
      ],
      "text/latex": [
       "\\begin{enumerate*}\n",
       "\\item 1\n",
       "\\item 1\n",
       "\\item 0.857142857142857\n",
       "\\item 0.875\n",
       "\\item 1\n",
       "\\item 0.875\n",
       "\\end{enumerate*}\n"
      ],
      "text/markdown": [
       "1. 1\n",
       "2. 1\n",
       "3. 0.857142857142857\n",
       "4. 0.875\n",
       "5. 1\n",
       "6. 0.875\n",
       "\n",
       "\n"
      ],
      "text/plain": [
       "[1] 1.0000000 1.0000000 0.8571429 0.8750000 1.0000000 0.8750000"
      ]
     },
     "metadata": {},
     "output_type": "display_data"
    }
   ],
   "source": [
    "head(sim_results)"
   ]
  },
  {
   "cell_type": "code",
   "execution_count": 44,
   "metadata": {
    "collapsed": false
   },
   "outputs": [
    {
     "data": {
      "text/html": [
       "8408"
      ],
      "text/latex": [
       "8408"
      ],
      "text/markdown": [
       "8408"
      ],
      "text/plain": [
       "[1] 8408"
      ]
     },
     "metadata": {},
     "output_type": "display_data"
    }
   ],
   "source": [
    "closest.movie <- which(sim_results == min(sim_results))\n",
    "head(closest.movie)"
   ]
  },
  {
   "cell_type": "code",
   "execution_count": 45,
   "metadata": {
    "collapsed": false
   },
   "outputs": [
    {
     "data": {
      "text/html": [
       "Maniac (1963)"
      ],
      "text/latex": [
       "Maniac (1963)"
      ],
      "text/markdown": [
       "Maniac (1963)"
      ],
      "text/plain": [
       "[1] Maniac (1963)\n",
       "9123 Levels: 10,000 BC (2008) 100 Girls (2000) 100 Rifles (1969) ... Zulu (2013)"
      ]
     },
     "metadata": {},
     "output_type": "display_data"
    }
   ],
   "source": [
    "#Recommended movies\n",
    "movies_df[closest.movie,2]"
   ]
  },
  {
   "cell_type": "code",
   "execution_count": null,
   "metadata": {
    "collapsed": true
   },
   "outputs": [],
   "source": []
  }
 ],
 "metadata": {
  "kernelspec": {
   "display_name": "R",
   "language": "R",
   "name": "ir"
  },
  "language_info": {
   "codemirror_mode": "r",
   "file_extension": ".r",
   "mimetype": "text/x-r-source",
   "name": "R",
   "pygments_lexer": "r",
   "version": "3.3.1"
  }
 },
 "nbformat": 4,
 "nbformat_minor": 2
}
